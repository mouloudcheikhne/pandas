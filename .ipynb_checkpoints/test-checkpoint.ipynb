{
 "cells": [
  {
   "cell_type": "code",
   "execution_count": 3,
   "id": "7f74d0df",
   "metadata": {},
   "outputs": [
    {
     "name": "stdout",
     "output_type": "stream",
     "text": [
      "247\n"
     ]
    }
   ],
   "source": [
    "\n",
    "import numpy as np\n",
    "print(np.random.randint(888))"
   ]
  },
  {
   "cell_type": "code",
   "execution_count": null,
   "id": "136c6255",
   "metadata": {},
   "outputs": [
    {
     "ename": "",
     "evalue": "",
     "output_type": "error",
     "traceback": [
      "\u001b[1;31mÉchec du démarrage du Kernel. \n",
      "\u001b[1;31mzmq.error.ZMQError: Address in use (addr='tcp://127.0.0.1:9002'). \n",
      "\u001b[1;31mPour plus d’informations, consultez Jupyter <a href='command:jupyter.viewOutput'>log</a>."
     ]
    }
   ],
   "source": [
    "import pandas as pd\n",
    "\n",
    "# Données pour chaque onglet\n",
    "base_data = {\n",
    "    \"Commande\": [\"import pandas as pd\", \"pd.Series()\", \"pd.DataFrame()\", \"df.head()\", \"df.info()\"],\n",
    "    \"Description\": [\"Importer la bibliothèque\", \"Créer une série\", \"Créer un DataFrame\", \"Afficher les premières lignes\", \"Résumé des données\"],\n",
    "    \"Exemple\": [\"import pandas as pd\", \"pd.Series([1,2,3])\", \"pd.DataFrame({'a': [1,2]})\", \"df.head(5)\", \"df.info()\"]\n",
    "}\n",
    "\n",
    "selection_filtrage_data = {\n",
    "    \"Commande\": [\"df['col']\", \"df.loc[]\", \"df.iloc[]\", \"df[df['age'] > 30]\"],\n",
    "    \"Description\": [\"Accéder à une colonne\", \"Sélection par étiquette\", \"Sélection par index\", \"Filtrer les lignes\"],\n",
    "    \"Exemple\": [\"df['age']\", \"df.loc[0, 'age']\", \"df.iloc[0, 1]\", \"df[df['age'] > 30]\"]\n",
    "}\n",
    "\n",
    "manipulation_data = {\n",
    "    \"Commande\": [\"df['new'] = ...\", \"df.drop()\", \"df.rename()\", \"df.sort_values()\"],\n",
    "    \"Description\": [\"Ajouter une colonne\", \"Supprimer colonnes/lignes\", \"Renommer colonnes\", \"Trier les données\"],\n",
    "    \"Exemple\": [\"df['double'] = df['age'] * 2\", \"df.drop('col', axis=1)\", \"df.rename(columns={'a': 'A'})\", \"df.sort_values(by='age')\"]\n",
    "}\n",
    "\n",
    "analyse_agregation_data = {\n",
    "    \"Commande\": [\"df.describe()\", \"df.mean()\", \"df.groupby()\", \"df.pivot_table()\"],\n",
    "    \"Description\": [\"Statistiques descriptives\", \"Moyenne\", \"Regroupement\", \"Tableau croisé dynamique\"],\n",
    "    \"Exemple\": [\"df.describe()\", \"df['age'].mean()\", \"df.groupby('genre').mean()\", \"df.pivot_table(values='age', index='genre')\"]\n",
    "}\n",
    "\n",
    "lecture_ecriture_data = {\n",
    "    \"Commande\": [\"pd.read_csv()\", \"df.to_csv()\", \"pd.read_excel()\", \"df.to_excel()\"],\n",
    "    \"Description\": [\"Lire un fichier CSV\", \"Écrire un CSV\", \"Lire un Excel\", \"Exporter en Excel\"],\n",
    "    \"Exemple\": [\"pd.read_csv('data.csv')\", \"df.to_csv('export.csv')\", \"pd.read_excel('fichier.xlsx')\", \"df.to_excel('export.xlsx')\"]\n",
    "}\n",
    "\n",
    "# Création des DataFrames\n",
    "base_df = pd.DataFrame(base_data)\n",
    "selection_df = pd.DataFrame(selection_filtrage_data)\n",
    "manipulation_df = pd.DataFrame(manipulation_data)\n",
    "analyse_df = pd.DataFrame(analyse_agregation_data)\n",
    "lecture_df = pd.DataFrame(lecture_ecriture_data)\n",
    "\n",
    "# Création du fichier Excel\n",
    "with pd.ExcelWriter(\"Fiche_Revision_Pandas.xlsx\") as writer:\n",
    "    base_df.to_excel(writer, sheet_name=\"Base\", index=False)\n",
    "    selection_df.to_excel(writer, sheet_name=\"Sélection & Filtrage\", index=False)\n",
    "    manipulation_df.to_excel(writer, sheet_name=\"Manipulation\", index=False)\n",
    "    analyse_df.to_excel(writer, sheet_name=\"Analyse & Agrégation\", index=False)\n",
    "    lecture_df.to_excel(writer, sheet_name=\"Lecture / Écriture\", index=False)\n",
    "\n",
    "print(\"✅ Fichier 'Fiche_Revision_Pandas.xlsx' généré avec succès !\")\n"
   ]
  },
  {
   "cell_type": "code",
   "execution_count": null,
   "id": "54733486",
   "metadata": {},
   "outputs": [],
   "source": [
    "import numpy as np\n",
    "n=np.random.random((3,2))\n",
    "n=np.random.randint(1,5,(2,3))\n",
    "s=np.random.randint(1,60,25)\n",
    "print(n)\n",
    "print(n)\n",
    "print(s)\n",
    "print(\"nouvaux matrice\")\n",
    "print(np.reshape(s,(5,5)))\n",
    "t=np.arange(36).reshape((6,6))\n",
    "print(t)\n"
   ]
  },
  {
   "cell_type": "code",
   "execution_count": null,
   "id": "8eb955f0",
   "metadata": {},
   "outputs": [
    {
     "name": "stdout",
     "output_type": "stream",
     "text": [
      "     NAME  Age          City\n",
      "0    SIDI   20       araffat\n",
      "1   AHMED   19        Londom\n",
      "2  NORMAL   15  tavra9e wyne\n",
      "     NAME  Age          City\n",
      "A    SIDI   20       araffat\n",
      "B   AHMED   19        Londom\n",
      "C  NORMAL   15  tavra9e wyne\n",
      "NAME     AHMED\n",
      "Age         19\n",
      "City    Londom\n",
      "Name: B, dtype: object\n",
      "[0 1 2 3]\n",
      "0    bana\n",
      "1      hh\n",
      "2      ll\n",
      "3      oo\n",
      "4     ttt\n",
      "dtype: object\n",
      "        Age          City\n",
      "NAME                     \n",
      "SIDI     20       araffat\n",
      "AHMED    19        Londom\n",
      "NORMAL   15  tavra9e wyne\n"
     ]
    }
   ],
   "source": [
    "import pandas as pd \n",
    "import numpy as np\n",
    "\n",
    "data={\n",
    "    \"NAME\":[\"SIDI\",\"AHMED\",\"NORMAL\"],\n",
    "    \"Age\":[20,19,15],\n",
    "    \"City\":[\"araffat\",\"Londom\",\"tavra9e wyne\"]\n",
    "}\n",
    "# df=pd.DataFrame(data,index=pd.RangeIndex(5,8))\n",
    "df=pd.DataFrame(data)\n",
    "print(df) \n",
    "df=pd.DataFrame(data)\n",
    "n=df.rename(index={0:\"A\",1:\"B\",2:\"C\"})\n",
    "print(n)\n",
    "print(n.iloc[1])\n",
    "nember=np.arange(4)\n",
    "print(nember)\n",
    "name=[\"bana\",\"hh\",\"ll\",\"oo\",\"ttt\"]\n",
    "print(pd.Series(name) )\n",
    "# df.set_index('NAME',inplace=True)\n",
    "# print(df)"
   ]
  }
 ],
 "metadata": {
  "kernelspec": {
   "display_name": "base",
   "language": "python",
   "name": "python3"
  },
  "language_info": {
   "codemirror_mode": {
    "name": "ipython",
    "version": 3
   },
   "file_extension": ".py",
   "mimetype": "text/x-python",
   "name": "python",
   "nbconvert_exporter": "python",
   "pygments_lexer": "ipython3",
   "version": "3.12.7"
  }
 },
 "nbformat": 4,
 "nbformat_minor": 5
}
